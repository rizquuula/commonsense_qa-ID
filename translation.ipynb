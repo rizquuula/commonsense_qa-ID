{
 "cells": [
  {
   "cell_type": "code",
   "execution_count": 1,
   "metadata": {},
   "outputs": [
    {
     "name": "stderr",
     "output_type": "stream",
     "text": [
      "/Users/rizquuula/Playground/commonsense_qa-ID/venv/lib/python3.11/site-packages/tqdm/auto.py:21: TqdmWarning: IProgress not found. Please update jupyter and ipywidgets. See https://ipywidgets.readthedocs.io/en/stable/user_install.html\n",
      "  from .autonotebook import tqdm as notebook_tqdm\n"
     ]
    },
    {
     "data": {
      "text/plain": [
       "True"
      ]
     },
     "execution_count": 1,
     "metadata": {},
     "output_type": "execute_result"
    }
   ],
   "source": [
    "from datasets import load_dataset\n",
    "from tqdm import tqdm\n",
    "import pandas as pd\n",
    "import json\n",
    "import jsonlines\n",
    "import time\n",
    "import os\n",
    "from dotenv import load_dotenv\n",
    "load_dotenv()"
   ]
  },
  {
   "cell_type": "markdown",
   "metadata": {},
   "source": [
    "# Load Dataset"
   ]
  },
  {
   "cell_type": "code",
   "execution_count": 2,
   "metadata": {},
   "outputs": [
    {
     "data": {
      "text/plain": [
       "DatasetDict({\n",
       "    train: Dataset({\n",
       "        features: ['id', 'question', 'question_concept', 'choices', 'answerKey'],\n",
       "        num_rows: 9741\n",
       "    })\n",
       "    validation: Dataset({\n",
       "        features: ['id', 'question', 'question_concept', 'choices', 'answerKey'],\n",
       "        num_rows: 1221\n",
       "    })\n",
       "    test: Dataset({\n",
       "        features: ['id', 'question', 'question_concept', 'choices', 'answerKey'],\n",
       "        num_rows: 1140\n",
       "    })\n",
       "})"
      ]
     },
     "execution_count": 2,
     "metadata": {},
     "output_type": "execute_result"
    }
   ],
   "source": [
    "cs_qa_dataset = load_dataset(\"commonsense_qa\")\n",
    "cs_qa_dataset"
   ]
  },
  {
   "cell_type": "code",
   "execution_count": 3,
   "metadata": {},
   "outputs": [
    {
     "data": {
      "text/html": [
       "<div>\n",
       "<style scoped>\n",
       "    .dataframe tbody tr th:only-of-type {\n",
       "        vertical-align: middle;\n",
       "    }\n",
       "\n",
       "    .dataframe tbody tr th {\n",
       "        vertical-align: top;\n",
       "    }\n",
       "\n",
       "    .dataframe thead th {\n",
       "        text-align: right;\n",
       "    }\n",
       "</style>\n",
       "<table border=\"1\" class=\"dataframe\">\n",
       "  <thead>\n",
       "    <tr style=\"text-align: right;\">\n",
       "      <th></th>\n",
       "      <th>id</th>\n",
       "      <th>question</th>\n",
       "      <th>question_concept</th>\n",
       "      <th>choices</th>\n",
       "      <th>answerKey</th>\n",
       "    </tr>\n",
       "  </thead>\n",
       "  <tbody>\n",
       "    <tr>\n",
       "      <th>0</th>\n",
       "      <td>075e483d21c29a511267ef62bedc0461</td>\n",
       "      <td>The sanctions against the school were a punish...</td>\n",
       "      <td>punishing</td>\n",
       "      <td>{'label': ['A', 'B', 'C', 'D', 'E'], 'text': [...</td>\n",
       "      <td>A</td>\n",
       "    </tr>\n",
       "    <tr>\n",
       "      <th>1</th>\n",
       "      <td>61fe6e879ff18686d7552425a36344c8</td>\n",
       "      <td>Sammy wanted to go to where the people were.  ...</td>\n",
       "      <td>people</td>\n",
       "      <td>{'label': ['A', 'B', 'C', 'D', 'E'], 'text': [...</td>\n",
       "      <td>B</td>\n",
       "    </tr>\n",
       "    <tr>\n",
       "      <th>2</th>\n",
       "      <td>4c1cb0e95b99f72d55c068ba0255c54d</td>\n",
       "      <td>To locate a choker not located in a jewelry bo...</td>\n",
       "      <td>choker</td>\n",
       "      <td>{'label': ['A', 'B', 'C', 'D', 'E'], 'text': [...</td>\n",
       "      <td>A</td>\n",
       "    </tr>\n",
       "  </tbody>\n",
       "</table>\n",
       "</div>"
      ],
      "text/plain": [
       "                                 id  \\\n",
       "0  075e483d21c29a511267ef62bedc0461   \n",
       "1  61fe6e879ff18686d7552425a36344c8   \n",
       "2  4c1cb0e95b99f72d55c068ba0255c54d   \n",
       "\n",
       "                                            question question_concept  \\\n",
       "0  The sanctions against the school were a punish...        punishing   \n",
       "1  Sammy wanted to go to where the people were.  ...           people   \n",
       "2  To locate a choker not located in a jewelry bo...           choker   \n",
       "\n",
       "                                             choices answerKey  \n",
       "0  {'label': ['A', 'B', 'C', 'D', 'E'], 'text': [...         A  \n",
       "1  {'label': ['A', 'B', 'C', 'D', 'E'], 'text': [...         B  \n",
       "2  {'label': ['A', 'B', 'C', 'D', 'E'], 'text': [...         A  "
      ]
     },
     "execution_count": 3,
     "metadata": {},
     "output_type": "execute_result"
    }
   ],
   "source": [
    "df_train = cs_qa_dataset['train'].to_pandas()\n",
    "df_validation = cs_qa_dataset['validation'].to_pandas()\n",
    "df_test = cs_qa_dataset['test'].to_pandas()\n",
    "df_train.head(3)"
   ]
  },
  {
   "cell_type": "code",
   "execution_count": 4,
   "metadata": {},
   "outputs": [
    {
     "name": "stderr",
     "output_type": "stream",
     "text": [
      "100%|██████████| 9741/9741 [00:00<00:00, 34961.33it/s]\n",
      "100%|██████████| 1221/1221 [00:00<00:00, 38000.74it/s]\n",
      "100%|██████████| 1140/1140 [00:00<00:00, 38887.95it/s]\n"
     ]
    }
   ],
   "source": [
    "def df_to_dict(df: pd.DataFrame):\n",
    "    df_dict = {}\n",
    "\n",
    "    for i, row in tqdm(df.iterrows(), total=df.shape[0]):\n",
    "        id = row['id']\n",
    "        q = row['question']\n",
    "        q_c = row['question_concept']\n",
    "        mc = row['choices']\n",
    "        ans_key = row['answerKey']\n",
    "\n",
    "        df_dict[id] = {\n",
    "            'question': q,\n",
    "            'question_concept': q_c,\n",
    "            'choices': mc,\n",
    "            'answerKey': ans_key,\n",
    "        }\n",
    "    return df_dict\n",
    "\n",
    "dict_train = df_to_dict(df_train)\n",
    "dict_validation = df_to_dict(df_validation)\n",
    "dict_test = df_to_dict(df_test)"
   ]
  },
  {
   "cell_type": "code",
   "execution_count": 5,
   "metadata": {},
   "outputs": [
    {
     "data": {
      "text/plain": [
       "{'question': 'The sanctions against the school were a punishing blow, and they seemed to what the efforts the school had made to change?',\n",
       " 'question_concept': 'punishing',\n",
       " 'choices': {'label': array(['A', 'B', 'C', 'D', 'E'], dtype=object),\n",
       "  'text': array(['ignore', 'enforce', 'authoritarian', 'yell at', 'avoid'],\n",
       "        dtype=object)},\n",
       " 'answerKey': 'A'}"
      ]
     },
     "execution_count": 5,
     "metadata": {},
     "output_type": "execute_result"
    }
   ],
   "source": [
    "dict_train[list(dict_train.keys())[0]]"
   ]
  },
  {
   "cell_type": "markdown",
   "metadata": {},
   "source": [
    "# Translation API"
   ]
  },
  {
   "cell_type": "code",
   "execution_count": 6,
   "metadata": {},
   "outputs": [],
   "source": [
    "# !pip3 install google-cloud-translate\n",
    "\n",
    "from google.cloud import translate"
   ]
  },
  {
   "cell_type": "code",
   "execution_count": 7,
   "metadata": {},
   "outputs": [],
   "source": [
    "# !gcloud auth application-default login\n",
    "\n",
    "PROJECT_ID = os.getenv('PROJECT_ID')"
   ]
  },
  {
   "cell_type": "code",
   "execution_count": 8,
   "metadata": {},
   "outputs": [],
   "source": [
    "def translate_text(text_list=[\"Hello, world!\"]):\n",
    "\n",
    "    client = translate.TranslationServiceClient()\n",
    "    location = \"global\"\n",
    "    parent = f\"projects/{PROJECT_ID}/locations/{location}\"\n",
    "\n",
    "\n",
    "    response = client.translate_text(\n",
    "        request={\n",
    "            \"parent\": parent,\n",
    "            \"contents\": text_list,\n",
    "            \"mime_type\": \"text/plain\",\n",
    "            \"source_language_code\": \"en-US\",\n",
    "            \"target_language_code\": \"id-ID\",\n",
    "        }\n",
    "    )\n",
    "\n",
    "    translated_text = []\n",
    "    for translation in response.translations:\n",
    "        translated_text.append(\"{}\".format(translation.translated_text))\n",
    "    return translated_text"
   ]
  },
  {
   "cell_type": "code",
   "execution_count": 9,
   "metadata": {},
   "outputs": [],
   "source": [
    "def translate_text_try(text_list):\n",
    "    while True:\n",
    "        try:\n",
    "            return translate_text(text_list)\n",
    "        except Exception as e:\n",
    "            print('Error:', str(e))\n",
    "            time.sleep(5)"
   ]
  },
  {
   "cell_type": "code",
   "execution_count": 10,
   "metadata": {},
   "outputs": [
    {
     "data": {
      "text/plain": [
       "['Halo\\nMenurutku, kamu adalah orang yang biasa-biasa saja',\n",
       " 'hanya ujian, jangan bersikap kasar padaku']"
      ]
     },
     "execution_count": 10,
     "metadata": {},
     "output_type": "execute_result"
    }
   ],
   "source": [
    "translate_text_try(text_list=['hello\\nI thing you\\'re just a so so person ', 'just a test, don\\'t be so rude to me'])"
   ]
  },
  {
   "cell_type": "markdown",
   "metadata": {},
   "source": [
    "# Translate Process"
   ]
  },
  {
   "cell_type": "code",
   "execution_count": 11,
   "metadata": {},
   "outputs": [],
   "source": [
    "def translate_data(dict_source:dict, output_file:str, continue_after_id:str=None):\n",
    "    if continue_after_id:\n",
    "        start = False\n",
    "    else:\n",
    "        start = True\n",
    "\n",
    "    with jsonlines.open(output_file, mode='a') as writer:\n",
    "        for k, v in tqdm(dict_source.items()):\n",
    "            if start:\n",
    "                translate_input = [\n",
    "                    v['question'],\n",
    "                    v['question_concept']\n",
    "                ] + list(v['choices']['text'])\n",
    "                translate_output = translate_text_try(translate_input)\n",
    "                translated_choices_texts = translate_output[2:]\n",
    "\n",
    "                # make sure the format is equal to original commonsense_qa jsonl files\n",
    "                translated_dict = {\n",
    "                    'answerKey': v['answerKey'],\n",
    "                    'id': k,\n",
    "                    'question': {\n",
    "                        'question_concept': translate_output[1],\n",
    "                        'choices': [{\n",
    "                            'label': 'A',\n",
    "                            'text': translated_choices_texts[0]\n",
    "                        }, {\n",
    "                            'label': 'B',\n",
    "                            'text': translated_choices_texts[1]\n",
    "                        }, {\n",
    "                            'label': 'C',\n",
    "                            'text': translated_choices_texts[2]\n",
    "                        }, {\n",
    "                            'label': 'D',\n",
    "                            'text': translated_choices_texts[3]\n",
    "                        }, {\n",
    "                            'label': 'E',\n",
    "                            'text': translated_choices_texts[4]\n",
    "                        }],\n",
    "                        'stem': translate_output[0]\n",
    "                    }\n",
    "                }\n",
    "                if translated_dict['answerKey'] == '':\n",
    "                    del translated_dict['answerKey']\n",
    "\n",
    "                writer.write(translated_dict)\n",
    "            else:\n",
    "                if k == continue_after_id:\n",
    "                    start = True"
   ]
  },
  {
   "cell_type": "code",
   "execution_count": 12,
   "metadata": {},
   "outputs": [],
   "source": [
    "TRAIN = 'commonsense_qa-id_train.jsonl'\n",
    "VAL = 'commonsense_qa-id_dev.jsonl'\n",
    "TEST = 'commonsense_qa-id_test_no_answer.jsonl'"
   ]
  },
  {
   "cell_type": "code",
   "execution_count": 13,
   "metadata": {},
   "outputs": [],
   "source": [
    "# translate_data(dict_train, TRAIN)"
   ]
  },
  {
   "cell_type": "code",
   "execution_count": 14,
   "metadata": {},
   "outputs": [],
   "source": [
    "# translate_data(dict_validation, VAL)"
   ]
  },
  {
   "cell_type": "code",
   "execution_count": 15,
   "metadata": {},
   "outputs": [],
   "source": [
    "# translate_data(dict_test, TEST)"
   ]
  },
  {
   "cell_type": "markdown",
   "metadata": {},
   "source": [
    "# Checking Translation"
   ]
  },
  {
   "cell_type": "code",
   "execution_count": 16,
   "metadata": {},
   "outputs": [],
   "source": [
    "def read_data(filepath):\n",
    "    res = {}\n",
    "    with jsonlines.open(filepath, mode='r') as reader:\n",
    "        for obj in reader:\n",
    "            # find duplicated id\n",
    "            if obj['id'] in res:\n",
    "                print('duplicated', obj['id'])\n",
    "            else:\n",
    "                res[obj['id']] = obj\n",
    "\n",
    "    return res\n",
    "\n",
    "dict_train_translated = read_data(TRAIN)\n",
    "dict_validation_translated = read_data(VAL)\n",
    "dict_test_translated = read_data(TEST)"
   ]
  },
  {
   "cell_type": "code",
   "execution_count": 17,
   "metadata": {},
   "outputs": [
    {
     "name": "stdout",
     "output_type": "stream",
     "text": [
      "dict_train_translated is same length of data:  True\n",
      "dict_validation_translated is same length of data:  True\n",
      "dict_test_translated is same length of data:  True\n"
     ]
    }
   ],
   "source": [
    "dict_train_ids = list(dict_train.keys())\n",
    "dict_validation_ids = list(dict_validation.keys())\n",
    "dict_test_ids = list(dict_test.keys())\n",
    "\n",
    "dict_train_translated_ids = list(dict_train_translated.keys())\n",
    "dict_validation_translated_ids = list(dict_validation_translated.keys())\n",
    "dict_test_translated_ids = list(dict_test_translated.keys())\n",
    "\n",
    "print('dict_train_translated is same length of data: ', len(dict_train_ids) == len(dict_train_translated_ids))\n",
    "print('dict_validation_translated is same length of data: ', len(dict_validation_ids) == len(dict_validation_translated_ids))\n",
    "print('dict_test_translated is same length of data: ', len(dict_test_ids) == len(dict_test_translated_ids))"
   ]
  }
 ],
 "metadata": {
  "kernelspec": {
   "display_name": "venv",
   "language": "python",
   "name": "python3"
  },
  "language_info": {
   "codemirror_mode": {
    "name": "ipython",
    "version": 3
   },
   "file_extension": ".py",
   "mimetype": "text/x-python",
   "name": "python",
   "nbconvert_exporter": "python",
   "pygments_lexer": "ipython3",
   "version": "3.11.4"
  },
  "orig_nbformat": 4
 },
 "nbformat": 4,
 "nbformat_minor": 2
}
