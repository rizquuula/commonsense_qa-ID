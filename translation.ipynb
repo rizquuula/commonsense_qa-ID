{
 "cells": [
  {
   "cell_type": "code",
   "execution_count": 2,
   "metadata": {},
   "outputs": [
    {
     "data": {
      "text/plain": [
       "True"
      ]
     },
     "execution_count": 2,
     "metadata": {},
     "output_type": "execute_result"
    }
   ],
   "source": [
    "from datasets import load_dataset\n",
    "from tqdm import tqdm\n",
    "import pandas as pd\n",
    "import json\n",
    "import jsonlines\n",
    "import time\n",
    "import os\n",
    "from dotenv import load_dotenv\n",
    "load_dotenv()"
   ]
  },
  {
   "cell_type": "markdown",
   "metadata": {},
   "source": [
    "# Load Dataset"
   ]
  },
  {
   "cell_type": "code",
   "execution_count": 3,
   "metadata": {},
   "outputs": [
    {
     "data": {
      "text/plain": [
       "DatasetDict({\n",
       "    train: Dataset({\n",
       "        features: ['id', 'question', 'question_concept', 'choices', 'answerKey'],\n",
       "        num_rows: 9741\n",
       "    })\n",
       "    validation: Dataset({\n",
       "        features: ['id', 'question', 'question_concept', 'choices', 'answerKey'],\n",
       "        num_rows: 1221\n",
       "    })\n",
       "    test: Dataset({\n",
       "        features: ['id', 'question', 'question_concept', 'choices', 'answerKey'],\n",
       "        num_rows: 1140\n",
       "    })\n",
       "})"
      ]
     },
     "execution_count": 3,
     "metadata": {},
     "output_type": "execute_result"
    }
   ],
   "source": [
    "cs_qa_dataset = load_dataset(\"commonsense_qa\")\n",
    "cs_qa_dataset"
   ]
  },
  {
   "cell_type": "code",
   "execution_count": 4,
   "metadata": {},
   "outputs": [
    {
     "data": {
      "text/html": [
       "<div>\n",
       "<style scoped>\n",
       "    .dataframe tbody tr th:only-of-type {\n",
       "        vertical-align: middle;\n",
       "    }\n",
       "\n",
       "    .dataframe tbody tr th {\n",
       "        vertical-align: top;\n",
       "    }\n",
       "\n",
       "    .dataframe thead th {\n",
       "        text-align: right;\n",
       "    }\n",
       "</style>\n",
       "<table border=\"1\" class=\"dataframe\">\n",
       "  <thead>\n",
       "    <tr style=\"text-align: right;\">\n",
       "      <th></th>\n",
       "      <th>id</th>\n",
       "      <th>question</th>\n",
       "      <th>question_concept</th>\n",
       "      <th>choices</th>\n",
       "      <th>answerKey</th>\n",
       "    </tr>\n",
       "  </thead>\n",
       "  <tbody>\n",
       "    <tr>\n",
       "      <th>0</th>\n",
       "      <td>075e483d21c29a511267ef62bedc0461</td>\n",
       "      <td>The sanctions against the school were a punish...</td>\n",
       "      <td>punishing</td>\n",
       "      <td>{'label': ['A', 'B', 'C', 'D', 'E'], 'text': [...</td>\n",
       "      <td>A</td>\n",
       "    </tr>\n",
       "    <tr>\n",
       "      <th>1</th>\n",
       "      <td>61fe6e879ff18686d7552425a36344c8</td>\n",
       "      <td>Sammy wanted to go to where the people were.  ...</td>\n",
       "      <td>people</td>\n",
       "      <td>{'label': ['A', 'B', 'C', 'D', 'E'], 'text': [...</td>\n",
       "      <td>B</td>\n",
       "    </tr>\n",
       "    <tr>\n",
       "      <th>2</th>\n",
       "      <td>4c1cb0e95b99f72d55c068ba0255c54d</td>\n",
       "      <td>To locate a choker not located in a jewelry bo...</td>\n",
       "      <td>choker</td>\n",
       "      <td>{'label': ['A', 'B', 'C', 'D', 'E'], 'text': [...</td>\n",
       "      <td>A</td>\n",
       "    </tr>\n",
       "  </tbody>\n",
       "</table>\n",
       "</div>"
      ],
      "text/plain": [
       "                                 id  \\\n",
       "0  075e483d21c29a511267ef62bedc0461   \n",
       "1  61fe6e879ff18686d7552425a36344c8   \n",
       "2  4c1cb0e95b99f72d55c068ba0255c54d   \n",
       "\n",
       "                                            question question_concept  \\\n",
       "0  The sanctions against the school were a punish...        punishing   \n",
       "1  Sammy wanted to go to where the people were.  ...           people   \n",
       "2  To locate a choker not located in a jewelry bo...           choker   \n",
       "\n",
       "                                             choices answerKey  \n",
       "0  {'label': ['A', 'B', 'C', 'D', 'E'], 'text': [...         A  \n",
       "1  {'label': ['A', 'B', 'C', 'D', 'E'], 'text': [...         B  \n",
       "2  {'label': ['A', 'B', 'C', 'D', 'E'], 'text': [...         A  "
      ]
     },
     "execution_count": 4,
     "metadata": {},
     "output_type": "execute_result"
    }
   ],
   "source": [
    "df_train = cs_qa_dataset['train'].to_pandas()\n",
    "df_validation = cs_qa_dataset['validation'].to_pandas()\n",
    "df_test = cs_qa_dataset['test'].to_pandas()\n",
    "df_train.head(3)"
   ]
  },
  {
   "cell_type": "code",
   "execution_count": 5,
   "metadata": {},
   "outputs": [
    {
     "name": "stderr",
     "output_type": "stream",
     "text": [
      "100%|██████████| 9741/9741 [00:00<00:00, 37469.54it/s]\n",
      "100%|██████████| 1221/1221 [00:00<00:00, 37355.45it/s]\n",
      "100%|██████████| 1140/1140 [00:00<00:00, 36007.49it/s]\n"
     ]
    }
   ],
   "source": [
    "def df_to_dict(df: pd.DataFrame):\n",
    "    df_dict = {}\n",
    "\n",
    "    for i, row in tqdm(df.iterrows(), total=df.shape[0]):\n",
    "        id = row['id']\n",
    "        q = row['question']\n",
    "        q_c = row['question_concept']\n",
    "        mc = row['choices']\n",
    "        ans_key = row['answerKey']\n",
    "\n",
    "        df_dict[id] = {\n",
    "            'question': q,\n",
    "            'question_concept': q_c,\n",
    "            'choices': mc,\n",
    "            'answerKey': ans_key,\n",
    "        }\n",
    "    return df_dict\n",
    "\n",
    "dict_train = df_to_dict(df_train)\n",
    "dict_validation = df_to_dict(df_validation)\n",
    "dict_test = df_to_dict(df_test)"
   ]
  },
  {
   "cell_type": "code",
   "execution_count": 6,
   "metadata": {},
   "outputs": [
    {
     "data": {
      "text/plain": [
       "{'question': 'The sanctions against the school were a punishing blow, and they seemed to what the efforts the school had made to change?',\n",
       " 'question_concept': 'punishing',\n",
       " 'choices': {'label': array(['A', 'B', 'C', 'D', 'E'], dtype=object),\n",
       "  'text': array(['ignore', 'enforce', 'authoritarian', 'yell at', 'avoid'],\n",
       "        dtype=object)},\n",
       " 'answerKey': 'A'}"
      ]
     },
     "execution_count": 6,
     "metadata": {},
     "output_type": "execute_result"
    }
   ],
   "source": [
    "dict_train[list(dict_train.keys())[0]]"
   ]
  },
  {
   "cell_type": "markdown",
   "metadata": {},
   "source": [
    "# Translation API"
   ]
  },
  {
   "cell_type": "code",
   "execution_count": 7,
   "metadata": {},
   "outputs": [],
   "source": [
    "# !pip3 install google-cloud-translate\n",
    "\n",
    "from google.cloud import translate"
   ]
  },
  {
   "cell_type": "code",
   "execution_count": 8,
   "metadata": {},
   "outputs": [],
   "source": [
    "# !gcloud auth application-default login\n",
    "\n",
    "PROJECT_ID = os.getenv('PROJECT_ID')"
   ]
  },
  {
   "cell_type": "code",
   "execution_count": 9,
   "metadata": {},
   "outputs": [],
   "source": [
    "def translate_text(text_list=[\"Hello, world!\"]):\n",
    "\n",
    "    client = translate.TranslationServiceClient()\n",
    "    location = \"global\"\n",
    "    parent = f\"projects/{PROJECT_ID}/locations/{location}\"\n",
    "\n",
    "\n",
    "    response = client.translate_text(\n",
    "        request={\n",
    "            \"parent\": parent,\n",
    "            \"contents\": text_list,\n",
    "            \"mime_type\": \"text/plain\",\n",
    "            \"source_language_code\": \"en-US\",\n",
    "            \"target_language_code\": \"id-ID\",\n",
    "        }\n",
    "    )\n",
    "\n",
    "    translated_text = []\n",
    "    for translation in response.translations:\n",
    "        translated_text.append(\"{}\".format(translation.translated_text))\n",
    "    return translated_text"
   ]
  },
  {
   "cell_type": "code",
   "execution_count": 10,
   "metadata": {},
   "outputs": [
    {
     "data": {
      "text/plain": [
       "['Halo\\nMenurutku, kamu adalah orang yang biasa-biasa saja',\n",
       " 'hanya ujian, jangan bersikap kasar padaku']"
      ]
     },
     "execution_count": 10,
     "metadata": {},
     "output_type": "execute_result"
    }
   ],
   "source": [
    "translate_text(text_list=['hello\\nI thing you\\'re just a so so person ', 'just a test, don\\'t be so rude to me'])"
   ]
  },
  {
   "cell_type": "markdown",
   "metadata": {},
   "source": [
    "# Translate Process"
   ]
  },
  {
   "cell_type": "code",
   "execution_count": 46,
   "metadata": {},
   "outputs": [
    {
     "name": "stderr",
     "output_type": "stream",
     "text": [
      "  0%|          | 0/9741 [00:00<?, ?it/s]"
     ]
    },
    {
     "name": "stdout",
     "output_type": "stream",
     "text": [
      "{'question': 'The sanctions against the school were a punishing blow, and they seemed to what the efforts the school had made to change?', 'question_concept': 'punishing', 'choices': {'label': array(['A', 'B', 'C', 'D', 'E'], dtype=object), 'text': array(['ignore', 'enforce', 'authoritarian', 'yell at', 'avoid'],\n",
      "      dtype=object)}, 'answerKey': 'A'}\n"
     ]
    },
    {
     "name": "stderr",
     "output_type": "stream",
     "text": [
      "  0%|          | 0/9741 [00:01<?, ?it/s]"
     ]
    },
    {
     "name": "stdout",
     "output_type": "stream",
     "text": [
      "['The sanctions against the school were a punishing blow, and they seemed to what the efforts the school had made to change?', 'punishing', 'ignore', 'enforce', 'authoritarian', 'yell at', 'avoid']\n",
      "['Sanksi terhadap sekolah tersebut merupakan pukulan telak, dan apa upaya yang telah dilakukan sekolah untuk mengubahnya?', 'menghukum', 'mengabaikan', 'melaksanakan', 'otoriter', 'berteriak', 'menghindari']\n"
     ]
    },
    {
     "name": "stderr",
     "output_type": "stream",
     "text": [
      "\n"
     ]
    }
   ],
   "source": [
    "with jsonlines.open('commonsense_qa-id.jsonl', mode='a') as writer:\n",
    "    for k, v in tqdm(dict_train.items()):\n",
    "        translate_input = [\n",
    "            v['question'],\n",
    "            v['question_concept']\n",
    "        ] + list(v['choices']['text'])\n",
    "        translate_output = translate_text(translate_input)\n",
    "\n",
    "        print(translate_input)\n",
    "        print(translate_output)\n",
    "\n",
    "        translated_dict = {\n",
    "            'id': k,\n",
    "            'question': translate_output[0],\n",
    "            'question_concept': translate_output[1],\n",
    "            'choices': {\n",
    "                'label': list(v['choices']['label']),\n",
    "                'text': translate_output[2:]\n",
    "            },\n",
    "            'answerKey': v['answerKey'],\n",
    "        }\n",
    "        writer.write(translated_dict)\n",
    "        break\n"
   ]
  },
  {
   "cell_type": "code",
   "execution_count": 36,
   "metadata": {},
   "outputs": [
    {
     "name": "stdout",
     "output_type": "stream",
     "text": [
      "{'test_a': 0}\n",
      "{'test_a': 1}\n",
      "{'test_a': 2}\n",
      "{'test_a': 3}\n",
      "{'test_a': 4}\n",
      "{'test_a': 5}\n",
      "{'test_a': 0}\n",
      "{'test_a': 1}\n",
      "{'test_a': 2}\n",
      "{'test_a': 3}\n",
      "{'test_a': 4}\n"
     ]
    }
   ],
   "source": [
    "with jsonlines.open('commonsense_qa-id.jsonl') as reader:\n",
    "    for obj in reader:\n",
    "        print(obj)"
   ]
  }
 ],
 "metadata": {
  "kernelspec": {
   "display_name": "venv",
   "language": "python",
   "name": "python3"
  },
  "language_info": {
   "codemirror_mode": {
    "name": "ipython",
    "version": 3
   },
   "file_extension": ".py",
   "mimetype": "text/x-python",
   "name": "python",
   "nbconvert_exporter": "python",
   "pygments_lexer": "ipython3",
   "version": "3.11.4"
  },
  "orig_nbformat": 4
 },
 "nbformat": 4,
 "nbformat_minor": 2
}
